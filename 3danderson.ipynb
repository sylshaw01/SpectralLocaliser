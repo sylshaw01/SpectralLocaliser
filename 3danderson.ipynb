{
 "cells": [
  {
   "cell_type": "code",
   "execution_count": null,
   "id": "9d887a51",
   "metadata": {},
   "outputs": [],
   "source": [
    "# Makes sure nested parallelism is avoided across any underlying implementation\n",
    "import os\n",
    "os.environ['OMP_NUM_THREADS'] = '1'\n",
    "os.environ['OPENBLAS_NUM_THREADS'] = '1'\n",
    "os.environ['MKL_NUM_THREADS'] = '1'\n",
    "os.environ['VECLIB_MAXIMUM_THREADS'] = '1'\n",
    "os.environ['NUMEXPR_NUM_THREADS'] = '1'\n",
    "\n",
    "import scipy.sparse as sp\n",
    "from scipy.sparse.linalg import eigsh\n",
    "import numpy as np\n",
    "import matplotlib.pyplot as plt\n",
    "import multiprocessing\n",
    "#multiprocessing.set_start_method('spawn', force=True)\n",
    "from multiprocessing import Pool\n",
    "\n",
    "def create_localiser(L,rho,kappa,disorder):\n",
    "    # Function to create the localiser matrix of a 3D Anderson model\n",
    "    # Note the open boundary conditions\n",
    "    # This also includes the creation of the position operator X\n",
    "    t = 1\n",
    "\n",
    "    # on diagonal disorder\n",
    "    diag = (np.random.rand(L**3)-0.5) * disorder\n",
    "    # off diagonal hopping term\n",
    "    X1_diag = np.tile(np.append(t * np.ones(L-1) ,0),               L**2)\n",
    "    X2_diag = np.tile(np.append(np.ones(L*(L-1)) ,np.zeros(L)),     L)\n",
    "    X3_diag = np.append(np.ones(L*L*(L-1)) ,np.zeros(L*L))\n",
    "    H = sp.diags([X3_diag,X2_diag,X1_diag,X1_diag,X2_diag,X3_diag],[-L*L,-L,-1,1,L,L*L],shape=(L**3,L**3),format='lil')\n",
    "\n",
    "    row_vector = np.linspace(-rho,rho,L)\n",
    "    X1 = sp.diags(np.tile(row_vector,L**2),0,shape=(L**3,L**3),format='csr')\n",
    "    X2 = sp.diags(np.tile(np.repeat(row_vector,L),L),0,shape=(L**3,L**3),format='csr')\n",
    "    X3 = sp.diags(np.repeat(row_vector,L**2),0,shape=(L**3,L**3),format='csr')\n",
    "\n",
    "    #H = sp.diags([off_diag,diag,off_diag],[-1,0,1],shape=(L,L),format='lil')\n",
    "\n",
    "    #H[L-1,0] = 1\n",
    "    #H[0,L-1] = 1\n",
    "\n",
    "    row_vector = np.linspace(-rho,rho,L)\n",
    "    X = sp.diags(row_vector,0,shape=(L,L),format='csr')\n",
    "\n",
    "    localiser = sp.bmat([[-H,kappa * X],[kappa * X,H]],format='csr')\n",
    "\n",
    "    return localiser\n",
    "\n",
    "\n",
    "def find_eigenvalues(localiser, num_eigenvalues=800):\n",
    "    # Function to find the positive eigenvalues of the localiser matrix\n",
    "    # numpy eigsh is best for the sparse case.\n",
    "    eigvals, eigvecs = eigsh(localiser, k=num_eigenvalues,sigma = 0, which='LM')\n",
    "    #eigvals, eigvecs = eigsh(localiser, k=num_eigenvalues, which='SM')\n",
    "    positive_eigvals = eigvals[eigvals > 0]\n",
    "    return positive_eigvals\n",
    "\n",
    "\n",
    "\n",
    "# Calculate the adjacent gap ratio r = min(s_i,s_(i+1))/max(s_i,s_(i+1))\n",
    "def calculate_r(eigvals):\n",
    "    # Once eigenvalues are found, calculate the r value\n",
    "    eigvals_s = np.diff(eigvals)\n",
    "    min_eigvals_s = np.array([min(eigvals_s[i],eigvals_s[i+1]) for i in range(len(eigvals_s)-1)])\n",
    "    max_eigvals_s = np.array([max(eigvals_s[i],eigvals_s[i+1]) for i in range(len(eigvals_s)-1)])\n",
    "    r = min_eigvals_s / max_eigvals_s\n",
    "    return r.mean()\n",
    "\n",
    "\n",
    "def calculate_z(eigvals):    \n",
    "    eigvals = sorted(eigvals)\n",
    "    z = np.zeros(len(eigvals)-4)\n",
    "    for i in range(2,len(eigvals)-2):\n",
    "        if abs(eigvals[i+1] - eigvals[i]) < abs(eigvals[i]-eigvals[i-1]):\n",
    "            nn = abs(eigvals[i+1] - eigvals[i])\n",
    "            nnn = min(min(abs(eigvals[i]-eigvals[i-1]),abs(eigvals[i+2]-eigvals[i])),abs(eigvals[i-2]-eigvals[i]))\n",
    "        else:\n",
    "            nn = abs(eigvals[i]-eigvals[i-1])\n",
    "            nnn = min(min(abs(eigvals[i+1]-eigvals[i]),abs(eigvals[i-2]-eigvals[i])),abs(eigvals[i+2]-eigvals[i]))\n",
    "        z[i-2] = nn/nnn\n",
    "    return z.mean()"
   ]
  },
  {
   "cell_type": "code",
   "execution_count": null,
   "id": "f6d7247e",
   "metadata": {},
   "outputs": [
    {
     "name": "stdout",
     "output_type": "stream",
     "text": [
      "[1. 1. 1. 1. 1. 1. 1. 1. 1. 1. 1. 1. 1. 1. 1. 1. 1. 1. 0. 0. 0. 0. 0. 0.\n",
      " 0. 0. 0.]\n"
     ]
    }
   ],
   "source": [
    "import numpy as np\n",
    "t = 1\n",
    "L = 3\n",
    "X1_diag = np.tile(np.append(t * np.ones(L-1) ,0),               L**2)\n",
    "X2_diag = np.tile(np.append(np.ones(L*(L-1)) ,np.zeros(L)),     L)\n",
    "X3_diag = np.append(np.ones(L*L*(L-1)) ,np.zeros(L*L))\n",
    "print(X3_diag)"
   ]
  },
  {
   "cell_type": "code",
   "execution_count": null,
   "id": "2fe18d17",
   "metadata": {},
   "outputs": [
    {
     "name": "stdout",
     "output_type": "stream",
     "text": [
      "[-1. -1. -1. -1. -1. -1. -1. -1. -1.  0.  0.  0.  0.  0.  0.  0.  0.  0.\n",
      "  1.  1.  1.  1.  1.  1.  1.  1.  1.]\n"
     ]
    }
   ],
   "source": [
    "\n",
    "import scipy.sparse as sp\n",
    "import numpy as np\n",
    "rho = 1\n",
    "L = 3\n",
    "\n",
    "\n",
    "\n",
    "print(X3_dense.diagonal())"
   ]
  },
  {
   "cell_type": "code",
   "execution_count": null,
   "id": "2c175980",
   "metadata": {},
   "outputs": [],
   "source": []
  }
 ],
 "metadata": {
  "kernelspec": {
   "display_name": "Python 3",
   "language": "python",
   "name": "python3"
  },
  "language_info": {
   "codemirror_mode": {
    "name": "ipython",
    "version": 3
   },
   "file_extension": ".py",
   "mimetype": "text/x-python",
   "name": "python",
   "nbconvert_exporter": "python",
   "pygments_lexer": "ipython3",
   "version": "3.9.21"
  }
 },
 "nbformat": 4,
 "nbformat_minor": 5
}
